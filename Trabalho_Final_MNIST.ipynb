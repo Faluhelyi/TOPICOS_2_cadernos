{
 "cells": [
  {
   "cell_type": "markdown",
   "metadata": {},
   "source": [
    "# **THE MNIST DATABASE of handwritten digits**"
   ]
  },
  {
   "cell_type": "markdown",
   "metadata": {},
   "source": [
    "## **1) Importação & preprocessamento dos dados**"
   ]
  },
  {
   "cell_type": "code",
   "execution_count": 100,
   "metadata": {},
   "outputs": [],
   "source": [
    "import urllib.request\n",
    "import gzip\n",
    "import pickle\n",
    "import os\n",
    "import numpy as np\n",
    "from sklearn.svm import SVC\n",
    "from sklearn.model_selection import GridSearchCV\n",
    "from PIL import Image\n",
    "from matplotlib import pyplot as plt\n",
    "from matplotlib import image as mpimg\n",
    "from sklearn import metrics\n",
    "import random\n",
    "\n",
    "def _download(file_name):\n",
    "    file_path = dataset_dir + \"/\" + file_name\n",
    "\n",
    "    if os.path.exists(file_path):\n",
    "        return\n",
    "\n",
    "    print(\"Downloading \" + file_name + \" ... \")\n",
    "    urllib.request.urlretrieve(url_base + file_name, file_path)\n",
    "    print(\"Done\")\n",
    "\n",
    "def download_mnist():\n",
    "    for v in key_file.values():\n",
    "       _download(v)\n",
    "\n",
    "def _load_label(file_name):\n",
    "    file_path = dataset_dir + \"/\" + file_name\n",
    "\n",
    "    print(\"Converting \" + file_name + \" to NumPy Array ...\")\n",
    "    with gzip.open(file_path, 'rb') as f:\n",
    "            labels = np.frombuffer(f.read(), np.uint8, offset=8)\n",
    "    print(\"Done\")\n",
    "\n",
    "    return labels\n",
    "\n",
    "def _load_img(file_name):\n",
    "    file_path = dataset_dir + \"/\" + file_name\n",
    "\n",
    "    print(\"Converting \" + file_name + \" to NumPy Array ...\")\n",
    "    with gzip.open(file_path, 'rb') as f:\n",
    "            data = np.frombuffer(f.read(), np.uint8, offset=16)\n",
    "    data = data.reshape(-1, img_size)\n",
    "    print(\"Done\")\n",
    "\n",
    "    return data\n",
    "\n",
    "def _convert_numpy():\n",
    "    dataset = {}\n",
    "    dataset['train_img'] =  _load_img(key_file['train_img'])\n",
    "    dataset['train_label'] = _load_label(key_file['train_label'])\n",
    "    dataset['test_img'] = _load_img(key_file['test_img'])\n",
    "    dataset['test_label'] = _load_label(key_file['test_label'])\n",
    "\n",
    "    return dataset\n",
    "\n",
    "def init_mnist():\n",
    "    download_mnist()\n",
    "    dataset = _convert_numpy()\n",
    "    print(\"Creating pickle file ...\")\n",
    "    with open(save_file, 'wb') as f:\n",
    "        pickle.dump(dataset, f, -1)\n",
    "    print(\"Done\")\n",
    "\n",
    "def _change_ont_hot_label(X):\n",
    "    T = np.zeros((X.size, 10))\n",
    "    for idx, row in enumerate(T):\n",
    "        row[X[idx]] = 1\n",
    "\n",
    "    return T\n",
    "\n",
    "def load_mnist(normalize=True, flatten=True, one_hot_label=False):\n",
    "    \"\"\"\n",
    "    Parameters\n",
    "    ----------\n",
    "    normalize : Normalize the pixel values\n",
    "    flatten : Flatten the images as one array\n",
    "    one_hot_label : Encode the labels as a one-hot array\n",
    "\n",
    "    Returns\n",
    "    -------\n",
    "    (Trainig Image, Training Label), (Test Image, Test Label)\n",
    "    \"\"\"\n",
    "    if not os.path.exists(save_file):\n",
    "        init_mnist()\n",
    "\n",
    "    with open(save_file, 'rb') as f:\n",
    "        dataset = pickle.load(f)\n",
    "\n",
    "    if normalize:\n",
    "        for key in ('train_img', 'test_img'):\n",
    "            dataset[key] = dataset[key].astype(np.float32)\n",
    "            dataset[key] /= 255.0\n",
    "\n",
    "    if not flatten:\n",
    "         for key in ('train_img', 'test_img'):\n",
    "            dataset[key] = dataset[key].reshape(-1, 1, 28, 28)\n",
    "\n",
    "    if one_hot_label:\n",
    "        dataset['train_label'] = _change_ont_hot_label(dataset['train_label'])\n",
    "        dataset['test_label'] = _change_ont_hot_label(dataset['test_label'])\n",
    "\n",
    "    return (dataset['train_img'], dataset['train_label']), (dataset['test_img'], dataset['test_label'])\n",
    "\n",
    "\n",
    "# Load the MNIST dataset\n",
    "url_base = 'http://yann.lecun.com/exdb/mnist/'\n",
    "key_file = {\n",
    "    'train_img':'train-images-idx3-ubyte.gz',\n",
    "    'train_label':'train-labels-idx1-ubyte.gz',\n",
    "    'test_img':'t10k-images-idx3-ubyte.gz',\n",
    "    'test_label':'t10k-labels-idx1-ubyte.gz'\n",
    "}\n",
    "\n",
    "dataset_dir = \"C:/Users/Igor/Desktop/TÓPICOS 2/Bancos\"\n",
    "save_file = dataset_dir + \"/mnist.pkl\"\n",
    "\n",
    "train_num = 60000\n",
    "test_num = 10000\n",
    "img_dim = (1, 28, 28)\n",
    "img_size = 784\n"
   ]
  },
  {
   "cell_type": "markdown",
   "metadata": {},
   "source": [
    "> Cada uma das 60000 imagens para treinamento, ou das 10000 imagens para teste, é uma matriz 28x28 em que cada entrada varia de 0 até 255\n",
    "\n",
    "> Cada uma das 784 entradas, elemento (i,j) da matriz, representa a intensidade do branco no pixel (i,j)"
   ]
  },
  {
   "cell_type": "markdown",
   "metadata": {},
   "source": [
    " > Achata-se cada matriz 28x28 em vetores coluna 784x1 para entrada no modelo\n",
    "\n",
    "> Retorna-se à forma inicial, em matriz, para plotar os dígitos escritos à mão"
   ]
  },
  {
   "cell_type": "code",
   "execution_count": 102,
   "metadata": {},
   "outputs": [
    {
     "name": "stdout",
     "output_type": "stream",
     "text": [
      "Cada imagem está achatada em um vetor coluna assim: (784,)\n",
      "Coloca-se a imagem, de volta para sua forma original, em uma matriz 28x28, para plotar a figura, em que cada entrada dessa matrix é a intesidade do branco no pixel (i,j): (28, 28)\n"
     ]
    }
   ],
   "source": [
    "(x_train, t_train), (x_test, t_test) = load_mnist(normalize=False, flatten=True)\n",
    "\n",
    "img = x_train[0]\n",
    "label = t_train[0]\n",
    "\n",
    "print(\"Cada imagem está achatada em um vetor coluna assim:\", img.shape)\n",
    "\n",
    "\n",
    "print(\"Coloca-se a imagem, de volta para sua forma original, em uma matriz 28x28, para plotar a figura, em que cada entrada dessa matrix é a intesidade do branco no pixel (i,j):\",\n",
    "img.reshape(28, 28).shape)\n"
   ]
  },
  {
   "cell_type": "code",
   "execution_count": 103,
   "metadata": {},
   "outputs": [
    {
     "data": {
      "image/png": "[encoded data removed]",
      "text/plain": [
       "<Figure size 800x550 with 10 Axes>"
      ]
     },
     "metadata": {},
     "output_type": "display_data"
    }
   ],
   "source": [
    "# Show some sample images\n",
    "\n",
    "img1 = x_train[0].reshape(28, 28)\n",
    "img2 = x_train[1].reshape(28, 28)\n",
    "img3 = x_train[4].reshape(28, 28)\n",
    "img4 = x_train[3].reshape(28, 28)\n",
    "\n",
    "img5 = x_train[13].reshape(28, 28)\n",
    "img6 = x_train[5].reshape(28, 28)\n",
    "\n",
    "img7 = x_train[15].reshape(28, 28)\n",
    "img8 = x_train[7].reshape(28, 28)\n",
    "\n",
    "img9 = x_train[17].reshape(28, 28)\n",
    "img10 = x_train[9].reshape(28, 28)\n",
    "\n",
    "\n",
    "fig, ax = plt.subplots(2, 5, dpi = 100)\n",
    "ax[0, 0].imshow(img2, cmap='gray', vmin=0, vmax=255)\n",
    "ax[0, 1].imshow(img4, cmap='gray', vmin=0, vmax=255)\n",
    "\n",
    "ax[1, 1].imshow(img5, cmap='gray', vmin=0, vmax=255)\n",
    "ax[0, 2].imshow(img6, cmap='gray', vmin=0, vmax=255)\n",
    "\n",
    "ax[1, 2].imshow(img7, cmap='gray', vmin=0, vmax=255)\n",
    "ax[0, 3].imshow(img8, cmap='gray', vmin=0, vmax=255)\n",
    "\n",
    "ax[1, 3].imshow(img9, cmap='gray', vmin=0, vmax=255)\n",
    "ax[0, 4].imshow(img10, cmap='gray', vmin=0, vmax=255)\n",
    "\n",
    "ax[1, 0].imshow(img1, cmap='gray', vmin=0, vmax=25)\n",
    "ax[1, 4].imshow(img3, cmap='gray', vmin=0, vmax=255)\n",
    "\n",
    "plt.show()\n"
   ]
  },
  {
   "cell_type": "markdown",
   "metadata": {},
   "source": [
    "### Faz-se esse achatamento das matrizes 28x28 em um vetor $\\vec{x}$ coluna 784x1 para que:\n",
    "\n",
    "### i) $\\vec{x}$ seja uma observação no $ \\mathbb{R}^{784}$\n",
    "\n",
    "### Então seria possível classificar $\\vec{x}$, em particular, a partir de SVM's.\n",
    "\n",
    "### ii) $\\vec{x}$ pode ser classificado como um número inteiro de 0 até 9\n"
   ]
  },
  {
   "cell_type": "markdown",
   "metadata": {},
   "source": [
    "## **2) EDA**"
   ]
  },
  {
   "cell_type": "code",
   "execution_count": 104,
   "metadata": {},
   "outputs": [
    {
     "data": {
      "image/png": "[encoded data removed]",
      "text/plain": [
       "<Figure size 800x550 with 1 Axes>"
      ]
     },
     "metadata": {},
     "output_type": "display_data"
    }
   ],
   "source": [
    "plt.style.use('seaborn')\n",
    "fig, ax = plt.subplots(dpi=100)\n",
    "\n",
    "for i in range(10):\n",
    "    ax.bar(i, len(t_train[t_train == i]), color = \"purple\")\n",
    "\n",
    "ax.set_ylabel(\"Count\")\n",
    "ax.set_xlabel(\"Classification\")\n",
    "ax.set_title(\"Training Data\")\n",
    "\n",
    "plt.show()\n"
   ]
  },
  {
   "cell_type": "code",
   "execution_count": null,
   "metadata": {},
   "outputs": [],
   "source": []
  },
  {
   "cell_type": "markdown",
   "metadata": {},
   "source": [
    "## **2) Resultados**"
   ]
  },
  {
   "cell_type": "markdown",
   "metadata": {},
   "source": [
    "### **Ajuste do SVM com Radial basis function (RBF) kernel**"
   ]
  },
  {
   "cell_type": "code",
   "execution_count": 105,
   "metadata": {},
   "outputs": [
    {
     "name": "stdout",
     "output_type": "stream",
     "text": [
      "0.9792\n"
     ]
    }
   ],
   "source": [
    "svm = SVC()\n",
    "svm.fit(x_train, t_train)\n",
    "\n",
    "print(svm.score(x_test, t_test))\n",
    "\n",
    "#print(np.sum(svm.predict(x_test) == t_test)/len(svm.predict(x_test)))"
   ]
  },
  {
   "cell_type": "code",
   "execution_count": 106,
   "metadata": {},
   "outputs": [],
   "source": [
    "#svm.score(x_test, t_test) == np.sum(svm.predict(x_test) == t_test)/len(svm.predict(x_test))"
   ]
  },
  {
   "cell_type": "code",
   "execution_count": 107,
   "metadata": {},
   "outputs": [
    {
     "data": {
      "text/plain": [
       "0.0208"
      ]
     },
     "execution_count": 107,
     "metadata": {},
     "output_type": "execute_result"
    }
   ],
   "source": [
    "# Error Rate\n",
    "np.sum(svm.predict(x_test) != t_test)/len(svm.predict(x_test))"
   ]
  },
  {
   "cell_type": "code",
   "execution_count": 108,
   "metadata": {},
   "outputs": [
    {
     "data": {
      "text/plain": [
       "array([[ 973,    0,    1,    0,    0,    2,    1,    1,    2,    0],\n",
       "       [   0, 1126,    3,    1,    0,    1,    1,    1,    2,    0],\n",
       "       [   6,    1, 1006,    2,    1,    0,    2,    7,    6,    1],\n",
       "       [   0,    0,    2,  995,    0,    2,    0,    5,    5,    1],\n",
       "       [   0,    0,    5,    0,  961,    0,    3,    0,    2,   11],\n",
       "       [   2,    0,    0,    9,    0,  871,    4,    1,    4,    1],\n",
       "       [   6,    2,    0,    0,    2,    3,  944,    0,    1,    0],\n",
       "       [   0,    6,   11,    1,    1,    0,    0,  996,    2,   11],\n",
       "       [   3,    0,    2,    6,    3,    2,    2,    3,  950,    3],\n",
       "       [   3,    4,    1,    7,   10,    2,    1,    7,    4,  970]],\n",
       "      dtype=int64)"
      ]
     },
     "execution_count": 108,
     "metadata": {},
     "output_type": "execute_result"
    }
   ],
   "source": [
    "# Colunas: Predicted\n",
    "# Linhas: Actual\n",
    "\n",
    "metrics.confusion_matrix(t_test, svm.predict(x_test))"
   ]
  },
  {
   "cell_type": "code",
   "execution_count": 109,
   "metadata": {},
   "outputs": [],
   "source": [
    "erros = x_test[svm.predict(x_test) != t_test]\n",
    "\n",
    "filtro = svm.predict(x_test) != t_test"
   ]
  },
  {
   "cell_type": "code",
   "execution_count": 110,
   "metadata": {},
   "outputs": [
    {
     "data": {
      "image/png": "[encoded data removed]",
      "text/plain": [
       "<Figure size 800x550 with 10 Axes>"
      ]
     },
     "metadata": {},
     "output_type": "display_data"
    }
   ],
   "source": [
    "random.seed(30)\n",
    "erros_10 = random.sample(range(len(erros)), 10)\n",
    "\n",
    "fig, ax = plt.subplots(2, 5, dpi = 100)\n",
    "\n",
    "for i in range(10):\n",
    "    if i == 0:\n",
    "        ax[0, 0].imshow(erros[erros_10][i].reshape(28, 28), cmap='gray', vmin=0, vmax=255)\n",
    "        ax[0, 0].set_title(str('certo: ')+ str(t_test[filtro][erros_10][i]) + str('. Predito: ') + str(svm.predict(erros[erros_10][i].reshape(1,-1))[0]),\n",
    "        fontsize = 8)\n",
    "\n",
    "    if i == 1:\n",
    "        ax[0, 1].imshow(erros[erros_10][i].reshape(28, 28), cmap='gray', vmin=0, vmax=255)\n",
    "        ax[0, 1].set_title(str('certo: ')+ str(t_test[filtro][erros_10][i]) + str('. Predito: ') + str(svm.predict(erros[erros_10][i].reshape(1,-1))[0]),\n",
    "        fontsize = 8)\n",
    "\n",
    "    if i == 2:\n",
    "        ax[1, 1].imshow(erros[erros_10][i].reshape(28, 28), cmap='gray', vmin=0, vmax=255)\n",
    "        ax[1, 1].set_title(str('certo: ')+ str(t_test[filtro][erros_10][i]) + str('. Predito: ') + str(svm.predict(erros[erros_10][i].reshape(1,-1))[0]),\n",
    "        fontsize = 8)\n",
    "\n",
    "    if i == 3:\n",
    "        ax[0, 2].imshow(erros[erros_10][i].reshape(28, 28), cmap='gray', vmin=0, vmax=255)\n",
    "        ax[0, 2].set_title(str('certo: ')+ str(t_test[filtro][erros_10][i]) + str('. Predito: ') + str(svm.predict(erros[erros_10][i].reshape(1,-1))[0]),\n",
    "        fontsize = 8)\n",
    "\n",
    "    if i == 4:\n",
    "        ax[1, 2].imshow(erros[erros_10][i].reshape(28, 28), cmap='gray', vmin=0, vmax=255)\n",
    "        ax[1, 2].set_title(str('certo: ')+ str(t_test[filtro][erros_10][i]) + str('. Predito: ') + str(svm.predict(erros[erros_10][i].reshape(1,-1))[0]),\n",
    "        fontsize = 8)\n",
    "\n",
    "    if i == 5:\n",
    "        ax[0, 3].imshow(erros[erros_10][i].reshape(28, 28), cmap='gray', vmin=0, vmax=255)\n",
    "        ax[0, 3].set_title(str('certo: ')+ str(t_test[filtro][erros_10][i]) + str('. Predito: ') + str(svm.predict(erros[erros_10][i].reshape(1,-1))[0]),\n",
    "        fontsize = 8)\n",
    "\n",
    "    if i == 6:\n",
    "        ax[1, 3].imshow(erros[erros_10][i].reshape(28, 28), cmap='gray', vmin=0, vmax=255)\n",
    "        ax[1, 3].set_title(str('certo: ')+ str(t_test[filtro][erros_10][i]) + str('. Predito: ') + str(svm.predict(erros[erros_10][i].reshape(1,-1))[0]),\n",
    "        fontsize = 8)\n",
    "\n",
    "    if i == 7:\n",
    "        ax[0, 4].imshow(erros[erros_10][i].reshape(28, 28), cmap='gray', vmin=0, vmax=255)\n",
    "        ax[0, 4].set_title(str('certo: ')+ str(t_test[filtro][erros_10][i]) + str('. Predito: ') + str(svm.predict(erros[erros_10][i].reshape(1,-1))[0]),\n",
    "        fontsize = 8)\n",
    "\n",
    "    if i == 8:\n",
    "        ax[1, 0].imshow(erros[erros_10][i].reshape(28, 28), cmap='gray', vmin=0, vmax=255)\n",
    "        ax[1, 0].set_title(str('certo: ')+ str(t_test[filtro][erros_10][i]) + str('. Predito: ') + str(svm.predict(erros[erros_10][i].reshape(1,-1))[0]),\n",
    "        fontsize = 8)\n",
    "\n",
    "    if i == 9:\n",
    "        ax[1, 4].imshow(erros[erros_10][i].reshape(28, 28), cmap='gray', vmin=0, vmax=255)\n",
    "        ax[1, 4].set_title(str('certo: ')+ str(t_test[filtro][erros_10][i]) + str('. Predito: ') + str(svm.predict(erros[erros_10][i].reshape(1,-1))[0]),\n",
    "        fontsize = 8)\n",
    "\n",
    "\n",
    "plt.show()\n",
    "    "
   ]
  },
  {
   "cell_type": "markdown",
   "metadata": {},
   "source": [
    "### **Ajuste do SVM com Polynomial kernel**"
   ]
  },
  {
   "cell_type": "code",
   "execution_count": 111,
   "metadata": {},
   "outputs": [
    {
     "name": "stdout",
     "output_type": "stream",
     "text": [
      "0.9774\n"
     ]
    }
   ],
   "source": [
    "svm2 = SVC(kernel = 'poly', degree = 2)\n",
    "svm2.fit(x_train, t_train)\n",
    "\n",
    "print(svm2.score(x_test, t_test))\n",
    "\n",
    "#print(np.sum(svm2.predict(x_test) == t_test)/len(svm2.predict(x_test)))"
   ]
  },
  {
   "cell_type": "code",
   "execution_count": 112,
   "metadata": {},
   "outputs": [
    {
     "data": {
      "text/plain": [
       "0.0226"
      ]
     },
     "execution_count": 112,
     "metadata": {},
     "output_type": "execute_result"
    }
   ],
   "source": [
    "# Error Rate\n",
    "\n",
    "np.sum(svm2.predict(x_test) != t_test)/len(svm2.predict(x_test))"
   ]
  }
 ],
 "metadata": {
  "kernelspec": {
   "display_name": "Python 3.10.4 64-bit",
   "language": "python",
   "name": "python3"
  },
  "language_info": {
   "codemirror_mode": {
    "name": "ipython",
    "version": 3
   },
   "file_extension": ".py",
   "mimetype": "text/x-python",
   "name": "python",
   "nbconvert_exporter": "python",
   "pygments_lexer": "ipython3",
   "version": "3.10.4"
  },
  "orig_nbformat": 4,
  "vscode": {
   "interpreter": {
    "hash": "babe29f9f8ae1ef920676a330178c91336ee5761fdb08a64abfc6141f8ff49b0"
   }
  }
 },
 "nbformat": 4,
 "nbformat_minor": 2
}
